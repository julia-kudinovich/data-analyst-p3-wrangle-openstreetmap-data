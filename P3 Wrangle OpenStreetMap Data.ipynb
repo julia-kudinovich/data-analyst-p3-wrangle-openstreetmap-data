{
 "cells": [
  {
   "cell_type": "markdown",
   "metadata": {},
   "source": [
    "# Intro"
   ]
  },
  {
   "cell_type": "markdown",
   "metadata": {},
   "source": [
    "## Map Area"
   ]
  },
  {
   "cell_type": "markdown",
   "metadata": {},
   "source": [
    "\n",
    "\n",
    "Las Vegas (NV), United States  -  [https://www.openstreetmap.org/relation/170117](https://www.openstreetmap.org/relation/170117)\n",
    "\n",
    "\n",
    "I will be performing data wrangling on Las Vegas OpenStreetMap data. I chose this specific region because it is my current home city and I am interested in cleaning and improving the data for it."
   ]
  },
  {
   "cell_type": "markdown",
   "metadata": {},
   "source": [
    "# Problems Encountered in the Map"
   ]
  },
  {
   "cell_type": "markdown",
   "metadata": {},
   "source": [
    "I used the code in _P3 Code_ jupyter notebook to audit and, clean and prepare the data. \n",
    "\n",
    "Below are the problems that I noticed after I initially explored the data:\n",
    "\n",
    "* Some addresses contain abbriviated street types in street (_W. Sahara Ave_) and  use 'S' or 'S.' for 'South' (_Las Vegas Blvd S_)\n",
    "* Street names containing unit/suite number which is supposed to be in `note` tag not in `addr:street` (_Howard Hughes Pkwy #790_)\n",
    "* Several postal codes are in the wrong format. They start with state abbreviation NV instead of just being a number (_NV 89117 should be just 89117_) \n",
    "* Way nodes have data uploaded from **Topologically Integrated Geographic Encoding and Referencing system (TIGER)** :\n",
    "\n",
    "     ``` \n",
    "     <tag k=\"tiger:name_base\" v=\"Sleek\"/> \n",
    "     ``` \n",
    "\n",
    "    According to the [OpenStreetMap documentation](http://wiki.openstreetmap.org/wiki/TIGER):\n",
    "    \n",
    "    \n",
    "    \n",
    "   >\"It is unlikely that the TIGER data ever will be imported again. Enough editing has occurred since the original upload of the TIGER 2005 data (which was not uploaded until 2007) that it will be difficult to determine if differences between future TIGER and OSM are because of good corrections made by OSM editors or from bad TIGER data. With the US mapping community growing strongly now, it isn't as much of a concern. Do not worry about getting your work overwritten by new TIGER data. Go map!\"\n",
    "   \n",
    "   \n",
    "   \n",
    "\n",
    "\n",
    "Before converting the data from osm to csv and loading it to the database I will perform some data cleaning and organization."
   ]
  },
  {
   "cell_type": "markdown",
   "metadata": {},
   "source": [
    "## Fixing Street Names"
   ]
  },
  {
   "cell_type": "markdown",
   "metadata": {},
   "source": [
    "The code snippet below is from the `get_tags()` function. This code first checks if the tag is of type \"address\" and then if the value of the tag is in the `st_types` list. Then it runs functions to remove abbreviations and numbers from the street names.\n",
    "\n",
    "```\n",
    "if tag[\"key\"] == \"street\":\n",
    "            for key,value in st_types.iteritems():\n",
    "                if i.attrib[\"v\"] in value:\n",
    "                    #Fix street type if it is in the `st_types` list we found before\n",
    "                    tag[\"value\"] = update_name(i.attrib[\"v\"] , mapping)\n",
    "                    #Remove building number from street address\n",
    "                    tag[\"value\"] = remove_bld_num(tag[\"value\"], mapping)\n",
    "```"
   ]
  },
  {
   "cell_type": "markdown",
   "metadata": {},
   "source": [
    "### Abbreviations"
   ]
  },
  {
   "cell_type": "markdown",
   "metadata": {},
   "source": [
    "To replace abbreviated street names I used the function and mapping below. In the result of this function a name like \n",
    "_\"3547 S Maryland Pkwy\"_ will be converted to _\"3547 South Maryland Parkway\"_\n",
    "```\n",
    "mapping = { \"St\": \"Street\", \"St.\": \"Street\", \"Ave\": \"Avenue\", \"AVE\": \"Avenue\",\n",
    "            \"Ave.\": \"Avenue\", \"ave\": \"Avenue\",  \"Blvd\": \"Boulevard\", \n",
    "            \"Blvd.\": \"Boulevard\", \"blvd\": \"Boulevard\", \"blvd.\": \"Boulevard\",\n",
    "            \"Rd\": \"Road\", \"Rd.\": \"Road\", \"Rd5\": \"Road\", \"Dr\" : \"Drive\", \n",
    "            \"Dr.\" : \"Drive\", \"Pkwy\" : \"Parkway\", \"Cir\" : \"Circle\", \"Ln\" : \"Lane\", \n",
    "            \"Ln.\" : \"Lane\",\"S\": \"South\",\"S.\": \"South\", \"N\": \"North\", \"N.\": \"North\", \n",
    "            \"W\": \"West\", \"W.\": \"West\", \"E\": \"East\",\"E.\": \"East\"}\n",
    "\n",
    "def update_name(name, mapping):\n",
    "    new_name = []\n",
    "    for i in name.split(\" \"):\n",
    "        if i in mapping.keys():\n",
    "            i = mapping[i]\n",
    "        new_name.append(i)\n",
    "    return \" \".join(new_name).replace(\",\",\"\")\n",
    "```"
   ]
  },
  {
   "cell_type": "markdown",
   "metadata": {},
   "source": [
    "### Numbers After Street Names"
   ]
  },
  {
   "cell_type": "markdown",
   "metadata": {},
   "source": [
    "In order to fix street names with suite/unit number I used the function below. It will convert an address like _\"2230 Corporate Circle Suite 250\"_ in to _\"2230 Corporate Circle\"_\n",
    "\n",
    "```\n",
    "bld_num = [\"Suite\", \"Ste\", \"#\", \"STE\"]\n",
    "\n",
    "def remove_bld_num(name, mapping):\n",
    "    for i in name.split(\" \"):\n",
    "        if any(bld in i for bld in bld_num):\n",
    "            return name.split(i)[0].strip()\n",
    "    return name\n",
    "```"
   ]
  },
  {
   "cell_type": "markdown",
   "metadata": {},
   "source": [
    "There are not very many abbreviated street names or street names containing suite/unit number. In terms of street addresses the data I have received from OpenStreetMap was pretty clean already."
   ]
  },
  {
   "cell_type": "markdown",
   "metadata": {},
   "source": [
    "## Fixing postal codes"
   ]
  },
  {
   "cell_type": "markdown",
   "metadata": {},
   "source": [
    "To fix postal codes I first check if the postal code is in the wrong format (i.e. does not start with '89'). The below code snippet is from the `get_tags()` function.\n",
    "```\n",
    "if tag[\"key\"] == \"postcode\":\n",
    "     if not i.attrib['v'].startswith(\"89\"):\n",
    "        tag[\"value\"] = fix_zip(i.attrib['v'])\n",
    "```"
   ]
  },
  {
   "cell_type": "markdown",
   "metadata": {},
   "source": [
    "The above code calls `fix_zip()` function in the case of the invalid zipcode:\n",
    "\n",
    "```\n",
    "def fix_zip(name):\n",
    "    return name[-5:]\n",
    "```"
   ]
  },
  {
   "cell_type": "markdown",
   "metadata": {},
   "source": [
    "In the result of this code invalid zip code like _\"NV 89119\"_ will be converted to  _\"89119\"_\n",
    "\n",
    "There were not many invalid postal codes in the whole dataset (only about 20). Most likely these were caused simply by an error."
   ]
  },
  {
   "cell_type": "markdown",
   "metadata": {},
   "source": [
    "# Overview of the data"
   ]
  },
  {
   "cell_type": "markdown",
   "metadata": {},
   "source": [
    "## FIle sizes"
   ]
  },
  {
   "cell_type": "markdown",
   "metadata": {},
   "source": [
    "The sizes of the files used in the project are following:\n",
    "\n",
    "* las-vegas_nevada.osm - 205.6MB\n",
    "* nodes.csv - 78.2MB\n",
    "* nodes_tags.csv - 2.2MB\n",
    "* ways.csv - 5.8MB\n",
    "* ways_tags.csv - 17.8MB\n",
    "* ways_nodes.cv - 27.9MB\n",
    "\n",
    "\n",
    "(**Note**: I am using SQL Server database instead of SQLite in my project.)\n",
    "\n",
    "Size of the SQL tables containg the data (using sql query: ```EXEC sp_spaceused N'tablename' ```): \n",
    "\n",
    "* nodes table - 44.8MB\n",
    "* nodes_tags table - 3MB\n",
    "* ways table  - 3.6MB\n",
    "* ways_tags table  -  21.9MB\n",
    "* ways_nodes table  - 65.7MB"
   ]
  },
  {
   "cell_type": "markdown",
   "metadata": {},
   "source": [
    "## Overview Statistics"
   ]
  },
  {
   "cell_type": "markdown",
   "metadata": {},
   "source": [
    "### Number of unique users"
   ]
  },
  {
   "cell_type": "markdown",
   "metadata": {},
   "source": [
    "**788** unique users\n",
    "```\n",
    "select count(distinct u.uid) \n",
    "    from (select uid from nodes union select uid from ways) as u\n",
    "```"
   ]
  },
  {
   "cell_type": "markdown",
   "metadata": {},
   "source": [
    "### Number of Nodes and Ways"
   ]
  },
  {
   "cell_type": "markdown",
   "metadata": {},
   "source": [
    "**524,287** nodes and **101,159** ways \n",
    "\n",
    "```\n",
    "select count(id)\n",
    "from nodes\n",
    "\n",
    "select count(id)\n",
    "from ways\n",
    "\n",
    "```"
   ]
  },
  {
   "cell_type": "markdown",
   "metadata": {},
   "source": [
    "### Number of chosen type of nodes"
   ]
  },
  {
   "cell_type": "markdown",
   "metadata": {},
   "source": [
    "Number of nodes with cuisine value 'burger': 86\n",
    "\n",
    "```\n",
    "select count(distinct id) from nodes_tags where value like 'burger'\n",
    "```"
   ]
  },
  {
   "cell_type": "markdown",
   "metadata": {},
   "source": [
    "### Additional statistics "
   ]
  },
  {
   "cell_type": "markdown",
   "metadata": {},
   "source": [
    "Top most used 3 key/value combinations from node_tags:\n",
    "\n",
    "\n",
    "| key     | value          | num  |\n",
    "|---------|----------------|------|\n",
    "| highway | crossing       | 7036 |\n",
    "| highway | turning_circle | 6979 |\n",
    "| power   | tower          | 6753 | \n",
    "\n",
    "```\n",
    " select top 3 key, value, count(*) num \n",
    " from nodes_tags\n",
    " group by key, value\n",
    " order by num desc\n",
    " ```"
   ]
  },
  {
   "cell_type": "markdown",
   "metadata": {},
   "source": [
    "# Other ideas about the dataset"
   ]
  },
  {
   "cell_type": "markdown",
   "metadata": {},
   "source": [
    "##  Ideas for additional improvements, their benefits or problems"
   ]
  },
  {
   "cell_type": "markdown",
   "metadata": {},
   "source": [
    "### Additional data cleaning ideas\n",
    "Upon further investigation of top used key/value pairs in nodes_tags I found out that `state/'state name'` pair is presented more than once. It will be right to think that the dataset should only have 1 such pair rnamely **state/NV**. However, below is result and the  the query that show all the state values present and their count\n",
    "\n",
    "```\n",
    "select key, value, count(*) num \n",
    "from nodes_tags\n",
    "where key='state'\n",
    "```"
   ]
  },
  {
   "cell_type": "markdown",
   "metadata": {},
   "source": [
    "| key   | value   | num  |\n",
    "|-------|---------|------|\n",
    "| state | NV      | 491  |\n",
    "| state | AZ      | 40   |\n",
    "| state | Nevada  | 4 |"
   ]
  },
  {
   "cell_type": "markdown",
   "metadata": {},
   "source": [
    "We see that there are 4 nodes with state 'Nevada' as opposed to 491 nodes with state 'NV' which makes me come to the conclusion that the `NV` is the default format for the state. Moreover, there are 40 nodes with state 'AZ', which seems very odd to me since we are looking at the data for the city in Nevada not Arizona.\n",
    "\n",
    "If converting `state/Nevada` to `state/NV` seems pretty much obvious in benefiting the data cleaning and uniformity, then `state/AZ` may cause a problem and needs further investigation. \n",
    "\n",
    "In the query below I select all names for the nodes that have state 'AZ' to see what map point they represent.\n",
    "\n",
    "```\n",
    "select n.id, nt.key, nt.value \n",
    "FROM nodes n \n",
    "left join nodes_tags nt on n.id=nt.id\n",
    "where n.id in (select id from nodes_tags where key='state' and value ='AZ' )\n",
    "and nt.key='name'\n",
    "order by n.id desc\n",
    "```"
   ]
  },
  {
   "cell_type": "markdown",
   "metadata": {},
   "source": [
    "As a result of this query I got all the names for map points with 'AZ' as a state. The names share something in common: almost all of them are either 'Bay', 'Cove' or 'Mine', natural points in other words. However, there is one exception: one point is an airport (Temple Bar Airport). As one possible explanation for nature points: these map points may be on the border of NV and AZ states. But can an airport be on the border of 2 states?"
   ]
  },
  {
   "cell_type": "markdown",
   "metadata": {},
   "source": [
    "### Additional data improving ideas\n",
    "\n",
    "Smartphone app can be used as an additional tool for improving and gathering data. For example, a game can be created where person is asked to confirm or deny the location of specific map point around him or her, confirm the address or any description (like cuisine of a restaurant etc). In exchange the user gets some kind of points with which he can gather ranks in game.\n",
    "\n",
    "The benefit of this idea is that more people will contribute to the map data more often, which potentially will make the map data more correct.\n",
    "\n",
    "However, there may be problems: users can submit incorrect data, or if the game becomes very popular and competitive users can just start clicking through without thinking just for the points.\n"
   ]
  },
  {
   "cell_type": "markdown",
   "metadata": {},
   "source": [
    "# References\n",
    "\n",
    "http://wiki.openstreetmap.org/wiki/TIGER\n"
   ]
  }
 ],
 "metadata": {
  "anaconda-cloud": {},
  "kernelspec": {
   "display_name": "Python [default]",
   "language": "python",
   "name": "python2"
  },
  "language_info": {
   "codemirror_mode": {
    "name": "ipython",
    "version": 2
   },
   "file_extension": ".py",
   "mimetype": "text/x-python",
   "name": "python",
   "nbconvert_exporter": "python",
   "pygments_lexer": "ipython2",
   "version": "2.7.13"
  }
 },
 "nbformat": 4,
 "nbformat_minor": 2
}
